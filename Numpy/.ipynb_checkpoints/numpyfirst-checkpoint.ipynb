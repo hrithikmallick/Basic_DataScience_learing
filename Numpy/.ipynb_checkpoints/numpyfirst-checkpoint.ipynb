{
 "cells": [
  {
   "cell_type": "code",
   "execution_count": 2,
   "id": "0aef709f",
   "metadata": {},
   "outputs": [],
   "source": [
    "import numpy as np\n"
   ]
  },
  {
   "cell_type": "code",
   "execution_count": 3,
   "id": "098d94cf",
   "metadata": {},
   "outputs": [
    {
     "data": {
      "text/plain": [
       "array([1, 2, 3, 4])"
      ]
     },
     "execution_count": 3,
     "metadata": {},
     "output_type": "execute_result"
    }
   ],
   "source": [
    "l1=[1,2,3,4]\n",
    "#creating numpy array\n",
    "n1=np.array(l1)\n",
    "n1"
   ]
  },
  {
   "cell_type": "code",
   "execution_count": 4,
   "id": "07082dd8",
   "metadata": {},
   "outputs": [
    {
     "data": {
      "text/plain": [
       "numpy.ndarray"
      ]
     },
     "execution_count": 4,
     "metadata": {},
     "output_type": "execute_result"
    }
   ],
   "source": [
    "type(n1)"
   ]
  },
  {
   "cell_type": "code",
   "execution_count": 3,
   "id": "24052a11",
   "metadata": {},
   "outputs": [
    {
     "data": {
      "text/plain": [
       "array([[1, 2, 3, 4],\n",
       "       [4, 3, 2, 1]])"
      ]
     },
     "execution_count": 3,
     "metadata": {},
     "output_type": "execute_result"
    }
   ],
   "source": [
    "n2=np.array([[1,2,3,4],[4,3,2,1]])\n",
    "n2"
   ]
  },
  {
   "cell_type": "code",
   "execution_count": 6,
   "id": "a7eee9d9",
   "metadata": {},
   "outputs": [
    {
     "data": {
      "text/plain": [
       "numpy.ndarray"
      ]
     },
     "execution_count": 6,
     "metadata": {},
     "output_type": "execute_result"
    }
   ],
   "source": [
    "type(n2)"
   ]
  },
  {
   "cell_type": "code",
   "execution_count": 7,
   "id": "dccdaa92",
   "metadata": {},
   "outputs": [
    {
     "data": {
      "text/plain": [
       "array([[0., 0., 0.],\n",
       "       [0., 0., 0.]])"
      ]
     },
     "execution_count": 7,
     "metadata": {},
     "output_type": "execute_result"
    }
   ],
   "source": [
    "#intialize a empty array\n",
    "n3=np.zeros((2,3))\n",
    "n3\n"
   ]
  },
  {
   "cell_type": "code",
   "execution_count": 8,
   "id": "7611326d",
   "metadata": {},
   "outputs": [
    {
     "data": {
      "text/plain": [
       "numpy.ndarray"
      ]
     },
     "execution_count": 8,
     "metadata": {},
     "output_type": "execute_result"
    }
   ],
   "source": [
    "type(n3)"
   ]
  },
  {
   "cell_type": "code",
   "execution_count": 9,
   "id": "fe6fa5bc",
   "metadata": {},
   "outputs": [
    {
     "data": {
      "text/plain": [
       "array([[0., 0., 0., 0., 0., 0., 0., 0., 0., 0.],\n",
       "       [0., 0., 0., 0., 0., 0., 0., 0., 0., 0.],\n",
       "       [0., 0., 0., 0., 0., 0., 0., 0., 0., 0.],\n",
       "       [0., 0., 0., 0., 0., 0., 0., 0., 0., 0.],\n",
       "       [0., 0., 0., 0., 0., 0., 0., 0., 0., 0.],\n",
       "       [0., 0., 0., 0., 0., 0., 0., 0., 0., 0.],\n",
       "       [0., 0., 0., 0., 0., 0., 0., 0., 0., 0.],\n",
       "       [0., 0., 0., 0., 0., 0., 0., 0., 0., 0.],\n",
       "       [0., 0., 0., 0., 0., 0., 0., 0., 0., 0.],\n",
       "       [0., 0., 0., 0., 0., 0., 0., 0., 0., 0.]])"
      ]
     },
     "execution_count": 9,
     "metadata": {},
     "output_type": "execute_result"
    }
   ],
   "source": [
    "n4=np.zeros((10,10))\n",
    "n4"
   ]
  },
  {
   "cell_type": "code",
   "execution_count": 10,
   "id": "3ed7f134",
   "metadata": {},
   "outputs": [
    {
     "data": {
      "text/plain": [
       "array([[10, 10, 10],\n",
       "       [10, 10, 10],\n",
       "       [10, 10, 10]])"
      ]
     },
     "execution_count": 10,
     "metadata": {},
     "output_type": "execute_result"
    }
   ],
   "source": [
    "#intilize numpy array with same number\n",
    "n5=np.full((3,3),10)\n",
    "n5"
   ]
  },
  {
   "cell_type": "code",
   "execution_count": 11,
   "id": "65ccf33a",
   "metadata": {},
   "outputs": [
    {
     "data": {
      "text/plain": [
       "numpy.ndarray"
      ]
     },
     "execution_count": 11,
     "metadata": {},
     "output_type": "execute_result"
    }
   ],
   "source": [
    "type(n5)"
   ]
  },
  {
   "cell_type": "code",
   "execution_count": 18,
   "id": "47dfadf9",
   "metadata": {},
   "outputs": [
    {
     "data": {
      "text/plain": [
       "array([10, 11, 12, 13, 14, 15, 16, 17, 18, 19])"
      ]
     },
     "execution_count": 18,
     "metadata": {},
     "output_type": "execute_result"
    }
   ],
   "source": [
    "#intialzing python \n",
    "n6=np.arange(10,20)\n",
    "n6"
   ]
  },
  {
   "cell_type": "code",
   "execution_count": 13,
   "id": "f8027abe",
   "metadata": {},
   "outputs": [
    {
     "data": {
      "text/plain": [
       "array([ 10,  20,  30,  40,  50,  60,  70,  80,  90, 100, 110, 120, 130,\n",
       "       140, 150, 160, 170, 180, 190, 200, 210, 220, 230, 240, 250, 260,\n",
       "       270, 280, 290, 300, 310, 320, 330, 340, 350, 360, 370, 380, 390,\n",
       "       400, 410, 420, 430, 440, 450, 460, 470, 480, 490, 500, 510, 520,\n",
       "       530, 540, 550, 560, 570, 580, 590, 600, 610, 620, 630, 640, 650,\n",
       "       660, 670, 680, 690, 700, 710, 720, 730, 740, 750, 760, 770, 780,\n",
       "       790, 800, 810, 820, 830, 840, 850, 860, 870, 880, 890, 900, 910,\n",
       "       920, 930, 940, 950, 960, 970, 980, 990])"
      ]
     },
     "execution_count": 13,
     "metadata": {},
     "output_type": "execute_result"
    }
   ],
   "source": [
    "n6=np.arange(10,1000,10)\n",
    "n6\n",
    "\n"
   ]
  },
  {
   "cell_type": "code",
   "execution_count": 14,
   "id": "5837ed57",
   "metadata": {},
   "outputs": [],
   "source": [
    "#intialze numpy random input"
   ]
  },
  {
   "cell_type": "code",
   "execution_count": 15,
   "id": "50919316",
   "metadata": {},
   "outputs": [
    {
     "data": {
      "text/plain": [
       "array([10, 36, 51, 22, 12, 87, 80, 31, 69, 39])"
      ]
     },
     "execution_count": 15,
     "metadata": {},
     "output_type": "execute_result"
    }
   ],
   "source": [
    "n7=np.random.randint(10,100,10)\n",
    "n7"
   ]
  },
  {
   "cell_type": "code",
   "execution_count": 16,
   "id": "e5529759",
   "metadata": {},
   "outputs": [],
   "source": [
    "#shape of numpy array"
   ]
  },
  {
   "cell_type": "code",
   "execution_count": 22,
   "id": "0ffec24c",
   "metadata": {},
   "outputs": [
    {
     "data": {
      "text/plain": [
       "array([[1, 0, 2, 5],\n",
       "       [5, 8, 7, 6]])"
      ]
     },
     "execution_count": 22,
     "metadata": {},
     "output_type": "execute_result"
    }
   ],
   "source": [
    "n8=np.array([[1,0,2,5],[5,8,7,6]])\n",
    "n8"
   ]
  },
  {
   "cell_type": "code",
   "execution_count": 27,
   "id": "a2382926",
   "metadata": {},
   "outputs": [
    {
     "data": {
      "text/plain": [
       "array([[1, 0],\n",
       "       [2, 5],\n",
       "       [5, 8],\n",
       "       [7, 6]])"
      ]
     },
     "execution_count": 27,
     "metadata": {},
     "output_type": "execute_result"
    }
   ],
   "source": [
    "n8.shape=(4,2)\n",
    "n8"
   ]
  },
  {
   "cell_type": "code",
   "execution_count": 4,
   "id": "164aebfc",
   "metadata": {},
   "outputs": [
    {
     "data": {
      "text/plain": [
       "array([[1, 2, 3, 4, 5],\n",
       "       [4, 5, 6, 7, 8]])"
      ]
     },
     "execution_count": 4,
     "metadata": {},
     "output_type": "execute_result"
    }
   ],
   "source": [
    "#join  numpy arrays\n",
    "n9=np.array([1,2,3,4,5])\n",
    "n10=np.array([4,5,6,7,8])\n",
    "#vstack method\n",
    "np.vstack((n9,n10))\n",
    "\n"
   ]
  },
  {
   "cell_type": "code",
   "execution_count": 5,
   "id": "c329e83a",
   "metadata": {},
   "outputs": [
    {
     "data": {
      "text/plain": [
       "array([1, 2, 3, 4, 5, 4, 5, 6, 7, 8])"
      ]
     },
     "execution_count": 5,
     "metadata": {},
     "output_type": "execute_result"
    }
   ],
   "source": [
    "np.hstack((n9,n10))"
   ]
  },
  {
   "cell_type": "code",
   "execution_count": 6,
   "id": "f70a33de",
   "metadata": {},
   "outputs": [
    {
     "data": {
      "text/plain": [
       "array([[1, 4],\n",
       "       [2, 5],\n",
       "       [3, 6],\n",
       "       [4, 7],\n",
       "       [5, 8]])"
      ]
     },
     "execution_count": 6,
     "metadata": {},
     "output_type": "execute_result"
    }
   ],
   "source": [
    "np.column_stack((n9,n10))"
   ]
  },
  {
   "cell_type": "code",
   "execution_count": 7,
   "id": "46a04abc",
   "metadata": {},
   "outputs": [],
   "source": [
    "#numpy intersection and difference"
   ]
  },
  {
   "cell_type": "code",
   "execution_count": 8,
   "id": "c2f71f34",
   "metadata": {},
   "outputs": [],
   "source": [
    "n11=np.array([10,20,30,40,50,60])\n"
   ]
  },
  {
   "cell_type": "code",
   "execution_count": 9,
   "id": "6ca761ed",
   "metadata": {},
   "outputs": [],
   "source": [
    "n12=np.array([50,60,70,80,90])"
   ]
  },
  {
   "cell_type": "code",
   "execution_count": 10,
   "id": "059cee24",
   "metadata": {},
   "outputs": [
    {
     "data": {
      "text/plain": [
       "array([50, 60])"
      ]
     },
     "execution_count": 10,
     "metadata": {},
     "output_type": "execute_result"
    }
   ],
   "source": [
    "#find what is common between these two arrays\n",
    "np.intersect1d(n11,n12)"
   ]
  },
  {
   "cell_type": "code",
   "execution_count": 13,
   "id": "f1a39c97",
   "metadata": {},
   "outputs": [
    {
     "data": {
      "text/plain": [
       "array([10, 20, 30, 40])"
      ]
     },
     "execution_count": 13,
     "metadata": {},
     "output_type": "execute_result"
    }
   ],
   "source": [
    "#find what is differnce between in first and second arrays\n",
    "np.setdiff1d(n11,n12)\n"
   ]
  },
  {
   "cell_type": "code",
   "execution_count": 14,
   "id": "3025b046",
   "metadata": {},
   "outputs": [
    {
     "data": {
      "text/plain": [
       "100"
      ]
     },
     "execution_count": 14,
     "metadata": {},
     "output_type": "execute_result"
    }
   ],
   "source": [
    "#basic array mathematics\n",
    "n13=np.array([10,20])\n",
    "n14=np.array([30,40])\n",
    "#adding the whole array\n",
    "np.sum([n13,n14])"
   ]
  },
  {
   "cell_type": "code",
   "execution_count": 15,
   "id": "3bd60297",
   "metadata": {},
   "outputs": [
    {
     "data": {
      "text/plain": [
       "array([40, 60])"
      ]
     },
     "execution_count": 15,
     "metadata": {},
     "output_type": "execute_result"
    }
   ],
   "source": [
    "#adding only column part\n",
    "np.sum([n13,n14],axis=0)"
   ]
  },
  {
   "cell_type": "code",
   "execution_count": 17,
   "id": "15216e79",
   "metadata": {},
   "outputs": [
    {
     "data": {
      "text/plain": [
       "array([30, 70])"
      ]
     },
     "execution_count": 17,
     "metadata": {},
     "output_type": "execute_result"
    }
   ],
   "source": [
    "#adding only row part\n",
    "np.sum([n13,n14],axis=1)"
   ]
  },
  {
   "cell_type": "code",
   "execution_count": 18,
   "id": "443db85e",
   "metadata": {},
   "outputs": [
    {
     "data": {
      "text/plain": [
       "array([10, 20, 30])"
      ]
     },
     "execution_count": 18,
     "metadata": {},
     "output_type": "execute_result"
    }
   ],
   "source": [
    "#basic mathematical operations\n",
    "n15=np.array([10,20,30])\n",
    "n15"
   ]
  },
  {
   "cell_type": "code",
   "execution_count": 19,
   "id": "4a5b59b9",
   "metadata": {},
   "outputs": [
    {
     "data": {
      "text/plain": [
       "array([15, 25, 35])"
      ]
     },
     "execution_count": 19,
     "metadata": {},
     "output_type": "execute_result"
    }
   ],
   "source": [
    "n15+5"
   ]
  },
  {
   "cell_type": "code",
   "execution_count": 20,
   "id": "4fa6549e",
   "metadata": {},
   "outputs": [
    {
     "data": {
      "text/plain": [
       "array([ 5, 15, 25])"
      ]
     },
     "execution_count": 20,
     "metadata": {},
     "output_type": "execute_result"
    }
   ],
   "source": [
    "n15-5"
   ]
  },
  {
   "cell_type": "code",
   "execution_count": 21,
   "id": "e6d4d400",
   "metadata": {},
   "outputs": [
    {
     "data": {
      "text/plain": [
       "array([100, 200, 300])"
      ]
     },
     "execution_count": 21,
     "metadata": {},
     "output_type": "execute_result"
    }
   ],
   "source": [
    "n15*10"
   ]
  },
  {
   "cell_type": "code",
   "execution_count": 23,
   "id": "527c372f",
   "metadata": {},
   "outputs": [
    {
     "data": {
      "text/plain": [
       "array([2., 4., 6.])"
      ]
     },
     "execution_count": 23,
     "metadata": {},
     "output_type": "execute_result"
    }
   ],
   "source": [
    "n15/5"
   ]
  },
  {
   "cell_type": "code",
   "execution_count": 24,
   "id": "d02dec1b",
   "metadata": {},
   "outputs": [],
   "source": [
    "#numpy math functions mean median standard deviation"
   ]
  },
  {
   "cell_type": "code",
   "execution_count": 26,
   "id": "b833d625",
   "metadata": {},
   "outputs": [
    {
     "data": {
      "text/plain": [
       "array([ 1,  7, 28, 46, 35, 27,  7, 14, 10, 36])"
      ]
     },
     "execution_count": 26,
     "metadata": {},
     "output_type": "execute_result"
    }
   ],
   "source": [
    "n16=np.random.randint(1,50,10)\n",
    "n16"
   ]
  },
  {
   "cell_type": "code",
   "execution_count": 27,
   "id": "e9a17aeb",
   "metadata": {},
   "outputs": [
    {
     "data": {
      "text/plain": [
       "21.1"
      ]
     },
     "execution_count": 27,
     "metadata": {},
     "output_type": "execute_result"
    }
   ],
   "source": [
    "#usinng mean functions\n",
    "np.mean(n16)"
   ]
  },
  {
   "cell_type": "code",
   "execution_count": 28,
   "id": "c747a861",
   "metadata": {},
   "outputs": [
    {
     "data": {
      "text/plain": [
       "20.5"
      ]
     },
     "execution_count": 28,
     "metadata": {},
     "output_type": "execute_result"
    }
   ],
   "source": [
    "#using median function\n",
    "np.median(n16)"
   ]
  },
  {
   "cell_type": "code",
   "execution_count": 29,
   "id": "eb9da7cc",
   "metadata": {},
   "outputs": [
    {
     "data": {
      "text/plain": [
       "14.466858677681206"
      ]
     },
     "execution_count": 29,
     "metadata": {},
     "output_type": "execute_result"
    }
   ],
   "source": [
    "#using stander deviation function\n",
    "np.std(n16)"
   ]
  },
  {
   "cell_type": "code",
   "execution_count": 30,
   "id": "b3f4d038",
   "metadata": {},
   "outputs": [
    {
     "data": {
      "text/plain": [
       "array([ 1,  7, 28, 46, 35, 27,  7, 14, 10, 36])"
      ]
     },
     "execution_count": 30,
     "metadata": {},
     "output_type": "execute_result"
    }
   ],
   "source": [
    "#save and load numpy array\n",
    "n16"
   ]
  },
  {
   "cell_type": "code",
   "execution_count": 31,
   "id": "ff90ee65",
   "metadata": {},
   "outputs": [],
   "source": [
    "np.save(\"myarray\",n16)"
   ]
  },
  {
   "cell_type": "code",
   "execution_count": 32,
   "id": "985ebfbb",
   "metadata": {},
   "outputs": [],
   "source": [
    "newn16=np.load(\"myarray.npy\")"
   ]
  },
  {
   "cell_type": "code",
   "execution_count": 33,
   "id": "8b6ed51b",
   "metadata": {},
   "outputs": [
    {
     "data": {
      "text/plain": [
       "array([ 1,  7, 28, 46, 35, 27,  7, 14, 10, 36])"
      ]
     },
     "execution_count": 33,
     "metadata": {},
     "output_type": "execute_result"
    }
   ],
   "source": [
    "newn16"
   ]
  },
  {
   "cell_type": "code",
   "execution_count": null,
   "id": "5656080f",
   "metadata": {},
   "outputs": [],
   "source": []
  }
 ],
 "metadata": {
  "kernelspec": {
   "display_name": "Python 3 (ipykernel)",
   "language": "python",
   "name": "python3"
  },
  "language_info": {
   "codemirror_mode": {
    "name": "ipython",
    "version": 3
   },
   "file_extension": ".py",
   "mimetype": "text/x-python",
   "name": "python",
   "nbconvert_exporter": "python",
   "pygments_lexer": "ipython3",
   "version": "3.10.5"
  },
  "vscode": {
   "interpreter": {
    "hash": "df95319d8ce4e1d89f5365ae10992bc1f65da593082b1d264e8f529830ec2f02"
   }
  }
 },
 "nbformat": 4,
 "nbformat_minor": 5
}
